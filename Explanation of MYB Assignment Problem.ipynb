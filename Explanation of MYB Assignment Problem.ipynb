{
 "cells": [
  {
   "cell_type": "markdown",
   "id": "a947794a",
   "metadata": {},
   "source": [
    "## Contact\n",
    "#### [linkedin](https://www.linkedin.com/in/justin-isinguzo-464bb083/)  &emsp;  [twitter](https://twitter.com/barrizm)  &emsp;[facebook](https://facebook.com/barrizmjay)"
   ]
  },
  {
   "cell_type": "markdown",
   "id": "104f74fd",
   "metadata": {},
   "source": [
    "<h1><center>Linear programming(Assignment Problem)</center></h1> <br>  <h2><center>Case study: MYB Survey Project</center></h2>"
   ]
  },
  {
   "cell_type": "markdown",
   "id": "282d137a",
   "metadata": {},
   "source": [
    "## Problem Formulation.\n",
    "\n",
    "Surveys are to be carried out in five states in different parts of the country. these jobs will be carried out by four surveyors in MYB and must be completed on or before twenty one(21) days. The time for the surveyors to complete the jobs are shown in the table. The values in the cells assume that each job is completed by a single surveyor; however, jobs can be shared, with completion times being determined proportionally If no entry exists in a particular cell, it means that the corresponding job cannot be performed by the corresponding surveyors.\n",
    "\n",
    "\n",
    "<table style=\"width:60%\">\n",
    "  <tr>\n",
    "    <th></th>\n",
    "    <th>Abia</th>\n",
    "    <th>Akwa Ibom</th>\n",
    "    <th>Edo</th>\n",
    "    <th>Enugu</th>\n",
    "    <th>Rivers</th>\n",
    "     </tr>\n",
    "        \n",
    "  <tr>\n",
    "    <td>Team RPM</td>\n",
    "    <td></td>\n",
    "    <td>12</td>\n",
    "    <td></td>\n",
    "    <td></td>\n",
    "    <td>14</td>\n",
    "    </tr>\n",
    "\n",
    "  <tr>\n",
    "    <td>Peter</td>\n",
    "    <td>12</td>\n",
    "    <td></td>\n",
    "    <td>4</td>\n",
    "    <td></td>\n",
    "    <td></td>\n",
    "    </tr>\n",
    "\n",
    "  <tr>\n",
    "    <td>Douglas</td>\n",
    "    <td>16</td>\n",
    "    <td></td>\n",
    "    <td></td>\n",
    "    <td>7</td>\n",
    "    <td></td>\n",
    "    </tr>\n",
    "    \n",
    "  <tr>\n",
    "    <td>Andrew</td>\n",
    "    <td></td>\n",
    "    <td>18</td>\n",
    "    <td></td>\n",
    "    <td>9</td>\n",
    "    <td>20</td>\n",
    "    </tr>\n",
    "   <tr>\n",
    "    <th>Meters</th>\n",
    "    <td>84906</td>\n",
    "    <td>94569</td>\n",
    "    <td>30857</td>\n",
    "    <td>44623</td>\n",
    "    <td>105353</td>\n",
    "</tr>\n",
    "</table>\n",
    "\n",
    "This model seeks to optimize the time required to complete this project by determining the best assignment of surveyors to jobs so as to meet up to the set target provided by HAUWIE on the contract. \n",
    "\n",
    "* Objective: Minimize the time that will be taken to complete this survey\n",
    "* LP Form: Minimization(pyomo)\n",
    "* Decision Variables: Twenty(20) Variables .\n",
    "* Constraints: All the jobs must be completed and the total number of days for completion must not exceed twenty one days\n",
    "\n",
    "<div class=\"alert alert-block alert-info\">\n",
    "<b>Why Concrete model</b><br>\n",
    "Concrete model is prefered in this case because the variables are not large hence inputs can be made directly to solve the problem.\n",
    "</div>\n"
   ]
  },
  {
   "cell_type": "code",
   "execution_count": 139,
   "id": "320627da",
   "metadata": {},
   "outputs": [],
   "source": [
    "import pandas as pd\n",
    "import pyomo.environ as pe\n",
    "import pyomo.opt as po"
   ]
  },
  {
   "cell_type": "markdown",
   "id": "a0e5e618",
   "metadata": {},
   "source": [
    "To convert the table to dictionary for iteration, that is converting it to a matrix   "
   ]
  },
  {
   "cell_type": "code",
   "execution_count": 127,
   "id": "67a1ade6",
   "metadata": {},
   "outputs": [],
   "source": [
    "surveyors = {'Team_RPM', 'Peter', 'Douglas', 'Andrew'}\n",
    "\n",
    "tasks = tasks = ('Abia','Akwa Ibom','Edo', 'Enugu', 'Rivers')\n",
    "c = {\n",
    "    ('Team_RPM',  'Akwa Ibom'):  12,\n",
    "    ('Team_RPM',  'Rivers'):  14,\n",
    "    ('Peter', 'Abia'): 12,\n",
    "    ('Peter',  'Edo'): 4,\n",
    "    ('Douglas',  'Abia'): 16,\n",
    "    ('Douglas',  'Enugu'): 7,\n",
    "    ('Andrew',  'Akwa Ibom'): 18,\n",
    "    ('Andrew',  'Rivers'): 20,\n",
    "    ('Andrew', 'Enugu'):  9,\n",
    "}\n",
    "\n",
    "max_hours = 18\n"
   ]
  },
  {
   "cell_type": "code",
   "execution_count": 128,
   "id": "67ab185d",
   "metadata": {},
   "outputs": [],
   "source": [
    "model = pe.ConcreteModel()"
   ]
  },
  {
   "cell_type": "code",
   "execution_count": 129,
   "id": "56042977",
   "metadata": {},
   "outputs": [
    {
     "name": "stdout",
     "output_type": "stream",
     "text": [
      "WARNING: Initializing ordered Set surveyors with a fundamentally unordered\n",
      "    data source (type: set).  This WILL potentially lead to nondeterministic\n",
      "    behavior in Pyomo\n"
     ]
    }
   ],
   "source": [
    "model.surveyors = pe.Set(initialize=surveyors)\n",
    "model.tasks = pe.Set(initialize=tasks)"
   ]
  },
  {
   "cell_type": "code",
   "execution_count": 130,
   "id": "b9bc08fa",
   "metadata": {},
   "outputs": [],
   "source": [
    "model.c = pe.Param(model.surveyors, model.tasks, initialize=c, default=1000)\n",
    "model.max_hours = pe.Param(initialize=max_hours)"
   ]
  },
  {
   "cell_type": "code",
   "execution_count": 131,
   "id": "3dd010d2",
   "metadata": {},
   "outputs": [],
   "source": [
    "model.x = pe.Var(model.surveyors, model.tasks, domain=pe.Reals, bounds=(0, 1))"
   ]
  },
  {
   "cell_type": "code",
   "execution_count": 132,
   "id": "608ffb91",
   "metadata": {},
   "outputs": [],
   "source": [
    "expr = sum(model.c[w, t] * model.x[w, t]\n",
    "           for w in model.surveyors for t in model.tasks)\n",
    "model.objective = pe.Objective(sense=pe.minimize, expr=expr)"
   ]
  },
  {
   "cell_type": "code",
   "execution_count": 133,
   "id": "379eb2aa",
   "metadata": {},
   "outputs": [],
   "source": [
    "model.tasks_done = pe.ConstraintList()\n",
    "for t in model.tasks:\n",
    "    lhs = sum(model.x[w, t] for w in model.surveyors)\n",
    "    rhs = 1\n",
    "    model.tasks_done.add(lhs == rhs)"
   ]
  },
  {
   "cell_type": "code",
   "execution_count": 134,
   "id": "c19a2d91",
   "metadata": {},
   "outputs": [],
   "source": [
    "model.hour_limit = pe.ConstraintList()\n",
    "for w in model.surveyors:\n",
    "    lhs = sum(model.c[w, t] * model.x[w, t] for t in model.tasks)\n",
    "    rhs = model.max_hours\n",
    "    model.hour_limit.add(lhs <= rhs)"
   ]
  },
  {
   "cell_type": "code",
   "execution_count": 135,
   "id": "8375fdfe",
   "metadata": {},
   "outputs": [
    {
     "name": "stdout",
     "output_type": "stream",
     "text": [
      "Restricted license - for non-production use only - expires 2023-10-25\n",
      "Read LP format model from file C:\\Users\\BARRIZM\\AppData\\Local\\Temp\\tmpth859j3k.pyomo.lp\n",
      "Reading time = 0.05 seconds\n",
      "x21: 10 rows, 21 columns, 41 nonzeros\n",
      "Gurobi Optimizer version 9.5.2 build v9.5.2rc0 (win64)\n",
      "Thread count: 2 physical cores, 4 logical processors, using up to 4 threads\n",
      "Optimize a model with 10 rows, 21 columns and 41 nonzeros\n",
      "Model fingerprint: 0x1b9206e7\n",
      "Coefficient statistics:\n",
      "  Matrix range     [1e+00, 1e+03]\n",
      "  Objective range  [4e+00, 1e+03]\n",
      "  Bounds range     [1e+00, 1e+00]\n",
      "  RHS range        [1e+00, 2e+01]\n",
      "Presolve removed 1 rows and 1 columns\n",
      "Presolve time: 0.00s\n",
      "Presolved: 9 rows, 20 columns, 40 nonzeros\n",
      "\n",
      "Iteration    Objective       Primal Inf.    Dual Inf.      Time\n",
      "       0    0.0000000e+00   8.000000e+00   0.000000e+00      0s\n",
      "       6    5.2428571e+01   0.000000e+00   0.000000e+00      0s\n",
      "\n",
      "Solved in 6 iterations and 0.00 seconds (0.00 work units)\n",
      "Optimal objective  5.242857143e+01\n"
     ]
    }
   ],
   "source": [
    "solver = po.SolverFactory('gurobi')\n",
    "results = solver.solve(model, tee=True )"
   ]
  },
  {
   "cell_type": "code",
   "execution_count": 136,
   "id": "3274e9f6",
   "metadata": {},
   "outputs": [],
   "source": [
    "df = pd.DataFrame(index=pd.MultiIndex.from_tuples(model.x, names=['Surveyor', 'State']))\n",
    "df['x'] = [pe.value(model.x[key]) for key in df.index]\n",
    "df['c'] = [model.c[key] for key in df.index]"
   ]
  },
  {
   "cell_type": "code",
   "execution_count": 137,
   "id": "a6676b3a",
   "metadata": {},
   "outputs": [
    {
     "data": {
      "text/html": [
       "<div>\n",
       "<style scoped>\n",
       "    .dataframe tbody tr th:only-of-type {\n",
       "        vertical-align: middle;\n",
       "    }\n",
       "\n",
       "    .dataframe tbody tr th {\n",
       "        vertical-align: top;\n",
       "    }\n",
       "\n",
       "    .dataframe thead th {\n",
       "        text-align: right;\n",
       "    }\n",
       "</style>\n",
       "<table border=\"1\" class=\"dataframe\">\n",
       "  <thead>\n",
       "    <tr style=\"text-align: right;\">\n",
       "      <th>State</th>\n",
       "      <th>Abia</th>\n",
       "      <th>Akwa Ibom</th>\n",
       "      <th>Edo</th>\n",
       "      <th>Enugu</th>\n",
       "      <th>Rivers</th>\n",
       "    </tr>\n",
       "    <tr>\n",
       "      <th>Surveyor</th>\n",
       "      <th></th>\n",
       "      <th></th>\n",
       "      <th></th>\n",
       "      <th></th>\n",
       "      <th></th>\n",
       "    </tr>\n",
       "  </thead>\n",
       "  <tbody>\n",
       "    <tr>\n",
       "      <th>Andrew</th>\n",
       "      <td>0.0</td>\n",
       "      <td>0.0</td>\n",
       "      <td>0.0</td>\n",
       "      <td>0.0</td>\n",
       "      <td>11.428571</td>\n",
       "    </tr>\n",
       "    <tr>\n",
       "      <th>Douglas</th>\n",
       "      <td>0.0</td>\n",
       "      <td>0.0</td>\n",
       "      <td>0.0</td>\n",
       "      <td>7.0</td>\n",
       "      <td>0.000000</td>\n",
       "    </tr>\n",
       "    <tr>\n",
       "      <th>Peter</th>\n",
       "      <td>12.0</td>\n",
       "      <td>0.0</td>\n",
       "      <td>4.0</td>\n",
       "      <td>0.0</td>\n",
       "      <td>0.000000</td>\n",
       "    </tr>\n",
       "    <tr>\n",
       "      <th>Team_RPM</th>\n",
       "      <td>0.0</td>\n",
       "      <td>12.0</td>\n",
       "      <td>0.0</td>\n",
       "      <td>0.0</td>\n",
       "      <td>6.000000</td>\n",
       "    </tr>\n",
       "  </tbody>\n",
       "</table>\n",
       "</div>"
      ],
      "text/plain": [
       "State     Abia  Akwa Ibom  Edo  Enugu     Rivers\n",
       "Surveyor                                        \n",
       "Andrew     0.0        0.0  0.0    0.0  11.428571\n",
       "Douglas    0.0        0.0  0.0    7.0   0.000000\n",
       "Peter     12.0        0.0  4.0    0.0   0.000000\n",
       "Team_RPM   0.0       12.0  0.0    0.0   6.000000"
      ]
     },
     "execution_count": 137,
     "metadata": {},
     "output_type": "execute_result"
    }
   ],
   "source": [
    "(df['c'] * df['x']).unstack('State')"
   ]
  },
  {
   "cell_type": "markdown",
   "id": "cb84e6cd",
   "metadata": {},
   "source": [
    "## Interpretation\n",
    "\n",
    "The above result means that:\n",
    "\n",
    "* Andrew would work in Rivers state for 12 days covering all availabe 60km in the state.\n",
    "* Douglas wolud work in Enugu for 7 days covering 100% of the job available\n",
    "* Peter will handle all jobs available in Abia state and Edo state covering a total of 16 days\n",
    "* Team_RPM will cover the total available jobs in Akwa Ibom after wards head to Rivers for a six days stay to complete the 43% job availabe for them. "
   ]
  },
  {
   "cell_type": "code",
   "execution_count": 138,
   "id": "aa0b061f",
   "metadata": {},
   "outputs": [
    {
     "data": {
      "text/html": [
       "<div>\n",
       "<style scoped>\n",
       "    .dataframe tbody tr th:only-of-type {\n",
       "        vertical-align: middle;\n",
       "    }\n",
       "\n",
       "    .dataframe tbody tr th {\n",
       "        vertical-align: top;\n",
       "    }\n",
       "\n",
       "    .dataframe thead th {\n",
       "        text-align: right;\n",
       "    }\n",
       "</style>\n",
       "<table border=\"1\" class=\"dataframe\">\n",
       "  <thead>\n",
       "    <tr style=\"text-align: right;\">\n",
       "      <th></th>\n",
       "      <th>0</th>\n",
       "    </tr>\n",
       "    <tr>\n",
       "      <th>Surveyor</th>\n",
       "      <th></th>\n",
       "    </tr>\n",
       "  </thead>\n",
       "  <tbody>\n",
       "    <tr>\n",
       "      <th>Andrew</th>\n",
       "      <td>11.428571</td>\n",
       "    </tr>\n",
       "    <tr>\n",
       "      <th>Douglas</th>\n",
       "      <td>7.000000</td>\n",
       "    </tr>\n",
       "    <tr>\n",
       "      <th>Peter</th>\n",
       "      <td>16.000000</td>\n",
       "    </tr>\n",
       "    <tr>\n",
       "      <th>Team_RPM</th>\n",
       "      <td>18.000000</td>\n",
       "    </tr>\n",
       "  </tbody>\n",
       "</table>\n",
       "</div>"
      ],
      "text/plain": [
       "                  0\n",
       "Surveyor           \n",
       "Andrew    11.428571\n",
       "Douglas    7.000000\n",
       "Peter     16.000000\n",
       "Team_RPM  18.000000"
      ]
     },
     "execution_count": 138,
     "metadata": {},
     "output_type": "execute_result"
    }
   ],
   "source": [
    "(df['c'] * df['x']).groupby('Surveyor').sum().to_frame()"
   ]
  },
  {
   "cell_type": "markdown",
   "id": "5bb31109",
   "metadata": {},
   "source": [
    " <div class=\"alert alert-block alert-info\">\n",
    "<b> Number of days each surveyor is expected to spend on the project</b><br>\n",
    "\n",
    "</div>"
   ]
  },
  {
   "cell_type": "code",
   "execution_count": 19,
   "id": "c06994aa",
   "metadata": {},
   "outputs": [
    {
     "data": {
      "text/html": [
       "<div>\n",
       "<style scoped>\n",
       "    .dataframe tbody tr th:only-of-type {\n",
       "        vertical-align: middle;\n",
       "    }\n",
       "\n",
       "    .dataframe tbody tr th {\n",
       "        vertical-align: top;\n",
       "    }\n",
       "\n",
       "    .dataframe thead th {\n",
       "        text-align: right;\n",
       "    }\n",
       "</style>\n",
       "<table border=\"1\" class=\"dataframe\">\n",
       "  <thead>\n",
       "    <tr style=\"text-align: right;\">\n",
       "      <th>t</th>\n",
       "      <th>Abia</th>\n",
       "      <th>Akwa Ibom</th>\n",
       "      <th>Edo</th>\n",
       "      <th>Enugu</th>\n",
       "      <th>Rivers</th>\n",
       "    </tr>\n",
       "  </thead>\n",
       "  <tbody>\n",
       "    <tr>\n",
       "      <th>x</th>\n",
       "      <td>1.0</td>\n",
       "      <td>1.0</td>\n",
       "      <td>1.0</td>\n",
       "      <td>1.0</td>\n",
       "      <td>1.0</td>\n",
       "    </tr>\n",
       "  </tbody>\n",
       "</table>\n",
       "</div>"
      ],
      "text/plain": [
       "t  Abia  Akwa Ibom  Edo  Enugu  Rivers\n",
       "x   1.0        1.0  1.0    1.0     1.0"
      ]
     },
     "execution_count": 19,
     "metadata": {},
     "output_type": "execute_result"
    }
   ],
   "source": [
    "df['x'].groupby('t').sum().to_frame().T"
   ]
  },
  {
   "cell_type": "markdown",
   "id": "3ac6789e",
   "metadata": {},
   "source": [
    " <div class=\"alert alert-block alert-info\">\n",
    "<b> To Check if the jobs were completed or not</b><br>\n",
    "    The number '1' means the job schedule is complete\n",
    "\n",
    "</div>"
   ]
  },
  {
   "cell_type": "code",
   "execution_count": null,
   "id": "9caaf89e",
   "metadata": {},
   "outputs": [],
   "source": []
  }
 ],
 "metadata": {
  "kernelspec": {
   "display_name": "Python 3 (ipykernel)",
   "language": "python",
   "name": "python3"
  },
  "language_info": {
   "codemirror_mode": {
    "name": "ipython",
    "version": 3
   },
   "file_extension": ".py",
   "mimetype": "text/x-python",
   "name": "python",
   "nbconvert_exporter": "python",
   "pygments_lexer": "ipython3",
   "version": "3.7.13"
  }
 },
 "nbformat": 4,
 "nbformat_minor": 5
}
